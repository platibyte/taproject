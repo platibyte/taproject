{
 "cells": [
  {
   "cell_type": "code",
   "execution_count": 6,
   "metadata": {},
   "outputs": [],
   "source": [
    "from openai import OpenAI\n",
    "import datasets\n",
    "import pandas as pd\n",
    "import numpy as np\n",
    "\n",
    "\n",
    "client = OpenAI()\n",
    "\n",
    "## Template from openai.com\n",
    "#completion = client.chat.completions.create(\n",
    "#    model=\"gpt-4o\",\n",
    "#    messages=[\n",
    "#        {\"role\": \"system\", \"content\": \"You are a helpful assistant.\"},\n",
    "#        {\n",
    "#            \"role\": \"user\",\n",
    "#            \"content\": \"Write a haiku about recursion in programming.\"\n",
    "#        }\n",
    "#    ]\n",
    "#)\n",
    "## refined message content\n",
    "#print(completion.choices[0].message.content)"
   ]
  },
  {
   "cell_type": "code",
   "execution_count": 7,
   "metadata": {},
   "outputs": [],
   "source": [
    "def openai_response(message):\n",
    "    completion = client.chat.completions.create(\n",
    "        model='gpt-3.5-turbo',\n",
    "        messages=[\n",
    "#            {'role': 'developer',\n",
    "#             'content': 'you are a helpful assistant.'},\n",
    "            {'role': 'user',\n",
    "             'content': message\n",
    "            }\n",
    "        ]\n",
    "    )\n",
    "    return completion.choices[0].message.content"
   ]
  },
  {
   "cell_type": "code",
   "execution_count": 8,
   "metadata": {},
   "outputs": [],
   "source": [
    "#  function for taproject\n",
    "def get_all_openai_responses():\n",
    "    data = datasets.load_from_disk(dataset_path='General-Knowledge/train')\n",
    "    df = pd.DataFrame(data)\n",
    "    df['responses'] = None\n",
    "    for row, cols in df.iterrows():\n",
    "        df.iloc[0,2] = openai_response(cols['Question'])\n",
    "        # testing with only 1 response (cost saving)\n",
    "        break\n",
    "    return df"
   ]
  },
  {
   "cell_type": "code",
   "execution_count": 9,
   "metadata": {},
   "outputs": [],
   "source": [
    "if __name__ == '__main__':\n",
    "    table = get_all_openai_responses()\n"
   ]
  },
  {
   "cell_type": "code",
   "execution_count": 10,
   "metadata": {},
   "outputs": [
    {
     "data": {
      "text/html": [
       "<div>\n",
       "<style scoped>\n",
       "    .dataframe tbody tr th:only-of-type {\n",
       "        vertical-align: middle;\n",
       "    }\n",
       "\n",
       "    .dataframe tbody tr th {\n",
       "        vertical-align: top;\n",
       "    }\n",
       "\n",
       "    .dataframe thead th {\n",
       "        text-align: right;\n",
       "    }\n",
       "</style>\n",
       "<table border=\"1\" class=\"dataframe\">\n",
       "  <thead>\n",
       "    <tr style=\"text-align: right;\">\n",
       "      <th></th>\n",
       "      <th>Answer</th>\n",
       "      <th>Question</th>\n",
       "      <th>responses</th>\n",
       "    </tr>\n",
       "  </thead>\n",
       "  <tbody>\n",
       "    <tr>\n",
       "      <th>0</th>\n",
       "      <td>Artificial Intelligence refers to the developm...</td>\n",
       "      <td>What is Artificial Intelligence?</td>\n",
       "      <td>Artificial Intelligence (AI) refers to the sim...</td>\n",
       "    </tr>\n",
       "    <tr>\n",
       "      <th>1</th>\n",
       "      <td>The two main categories of Artificial Intellig...</td>\n",
       "      <td>What are the two main categories of Artificial...</td>\n",
       "      <td>None</td>\n",
       "    </tr>\n",
       "    <tr>\n",
       "      <th>2</th>\n",
       "      <td>Machine Learning is a subset of Artificial Int...</td>\n",
       "      <td>What is Machine Learning?</td>\n",
       "      <td>None</td>\n",
       "    </tr>\n",
       "    <tr>\n",
       "      <th>3</th>\n",
       "      <td>Deep Learning is a subset of Machine Learning ...</td>\n",
       "      <td>What is Deep Learning?</td>\n",
       "      <td>None</td>\n",
       "    </tr>\n",
       "    <tr>\n",
       "      <th>4</th>\n",
       "      <td>Natural Language Processing is a subset of Art...</td>\n",
       "      <td>What is Natural Language Processing?</td>\n",
       "      <td>None</td>\n",
       "    </tr>\n",
       "    <tr>\n",
       "      <th>...</th>\n",
       "      <td>...</td>\n",
       "      <td>...</td>\n",
       "      <td>...</td>\n",
       "    </tr>\n",
       "    <tr>\n",
       "      <th>37630</th>\n",
       "      <td>Yes, Viv Richards had a stellar batting averag...</td>\n",
       "      <td>Did Viv Richards have a stellar batting averag...</td>\n",
       "      <td>None</td>\n",
       "    </tr>\n",
       "    <tr>\n",
       "      <th>37631</th>\n",
       "      <td>Yes, Michel Platini has won the UEFA European ...</td>\n",
       "      <td>Has Michel Platini won the UEFA European Champ...</td>\n",
       "      <td>None</td>\n",
       "    </tr>\n",
       "    <tr>\n",
       "      <th>37632</th>\n",
       "      <td>Yes, Brian Lara held the record for the highes...</td>\n",
       "      <td>Did Brian Lara hold the record for the highest...</td>\n",
       "      <td>None</td>\n",
       "    </tr>\n",
       "    <tr>\n",
       "      <th>37633</th>\n",
       "      <td>Yes, Johan Cruyff was known for his influentia...</td>\n",
       "      <td>Was Johan Cruyff known for his influential pla...</td>\n",
       "      <td>None</td>\n",
       "    </tr>\n",
       "    <tr>\n",
       "      <th>37634</th>\n",
       "      <td>Yes, Glenn McGrath held the record for the mos...</td>\n",
       "      <td>Did Glenn McGrath hold the record for the most...</td>\n",
       "      <td>None</td>\n",
       "    </tr>\n",
       "  </tbody>\n",
       "</table>\n",
       "<p>37635 rows × 3 columns</p>\n",
       "</div>"
      ],
      "text/plain": [
       "                                                  Answer  \\\n",
       "0      Artificial Intelligence refers to the developm...   \n",
       "1      The two main categories of Artificial Intellig...   \n",
       "2      Machine Learning is a subset of Artificial Int...   \n",
       "3      Deep Learning is a subset of Machine Learning ...   \n",
       "4      Natural Language Processing is a subset of Art...   \n",
       "...                                                  ...   \n",
       "37630  Yes, Viv Richards had a stellar batting averag...   \n",
       "37631  Yes, Michel Platini has won the UEFA European ...   \n",
       "37632  Yes, Brian Lara held the record for the highes...   \n",
       "37633  Yes, Johan Cruyff was known for his influentia...   \n",
       "37634  Yes, Glenn McGrath held the record for the mos...   \n",
       "\n",
       "                                                Question  \\\n",
       "0                       What is Artificial Intelligence?   \n",
       "1      What are the two main categories of Artificial...   \n",
       "2                              What is Machine Learning?   \n",
       "3                                 What is Deep Learning?   \n",
       "4                   What is Natural Language Processing?   \n",
       "...                                                  ...   \n",
       "37630  Did Viv Richards have a stellar batting averag...   \n",
       "37631  Has Michel Platini won the UEFA European Champ...   \n",
       "37632  Did Brian Lara hold the record for the highest...   \n",
       "37633  Was Johan Cruyff known for his influential pla...   \n",
       "37634  Did Glenn McGrath hold the record for the most...   \n",
       "\n",
       "                                               responses  \n",
       "0      Artificial Intelligence (AI) refers to the sim...  \n",
       "1                                                   None  \n",
       "2                                                   None  \n",
       "3                                                   None  \n",
       "4                                                   None  \n",
       "...                                                  ...  \n",
       "37630                                               None  \n",
       "37631                                               None  \n",
       "37632                                               None  \n",
       "37633                                               None  \n",
       "37634                                               None  \n",
       "\n",
       "[37635 rows x 3 columns]"
      ]
     },
     "execution_count": 10,
     "metadata": {},
     "output_type": "execute_result"
    }
   ],
   "source": [
    "table"
   ]
  },
  {
   "cell_type": "code",
   "execution_count": 11,
   "metadata": {},
   "outputs": [
    {
     "data": {
      "text/plain": [
       "'Artificial Intelligence (AI) refers to the simulation of human intelligence in machines that are programmed to think and act like humans. This includes tasks such as learning, reasoning, problem-solving, understanding language, and perceiving the environment. AI is achieved through the development of computer systems that can perform tasks that typically require human intelligence, such as visual perception, speech recognition, decision-making, and language translation. AI technologies include machine learning, neural networks, natural language processing, and computer vision.'"
      ]
     },
     "execution_count": 11,
     "metadata": {},
     "output_type": "execute_result"
    }
   ],
   "source": [
    "table.iloc[0,2]"
   ]
  },
  {
   "cell_type": "code",
   "execution_count": 12,
   "metadata": {},
   "outputs": [
    {
     "data": {
      "text/plain": [
       "'Artificial Intelligence refers to the development of computer systems that can perform tasks that would typically require human intelligence, such as visual perception, speech recognition, decision-making, and language translation.\\\\n'"
      ]
     },
     "execution_count": 12,
     "metadata": {},
     "output_type": "execute_result"
    }
   ],
   "source": [
    "table.iloc[0,0]"
   ]
  }
 ],
 "metadata": {
  "kernelspec": {
   "display_name": "taproject",
   "language": "python",
   "name": "python3"
  },
  "language_info": {
   "codemirror_mode": {
    "name": "ipython",
    "version": 3
   },
   "file_extension": ".py",
   "mimetype": "text/x-python",
   "name": "python",
   "nbconvert_exporter": "python",
   "pygments_lexer": "ipython3",
   "version": "3.12.8"
  }
 },
 "nbformat": 4,
 "nbformat_minor": 2
}
