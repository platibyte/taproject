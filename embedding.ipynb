{
 "cells": [
  {
   "cell_type": "code",
   "execution_count": 1,
   "metadata": {},
   "outputs": [
    {
     "name": "stderr",
     "output_type": "stream",
     "text": [
      "/home/tobias/anaconda3/envs/taproject/lib/python3.12/site-packages/tqdm/auto.py:21: TqdmWarning: IProgress not found. Please update jupyter and ipywidgets. See https://ipywidgets.readthedocs.io/en/stable/user_install.html\n",
      "  from .autonotebook import tqdm as notebook_tqdm\n"
     ]
    }
   ],
   "source": [
    "from tqdm import tqdm\n",
    "import datasets\n",
    "import pandas as pd\n",
    "import numpy as np"
   ]
  },
  {
   "cell_type": "code",
   "execution_count": 2,
   "metadata": {},
   "outputs": [],
   "source": [
    "data = datasets.load_from_disk(dataset_path='/home/tobias/CAS Machine Learning/taproject/General-Knowledge/train')\n"
   ]
  },
  {
   "cell_type": "code",
   "execution_count": 3,
   "metadata": {},
   "outputs": [
    {
     "data": {
      "text/html": [
       "<div>\n",
       "<style scoped>\n",
       "    .dataframe tbody tr th:only-of-type {\n",
       "        vertical-align: middle;\n",
       "    }\n",
       "\n",
       "    .dataframe tbody tr th {\n",
       "        vertical-align: top;\n",
       "    }\n",
       "\n",
       "    .dataframe thead th {\n",
       "        text-align: right;\n",
       "    }\n",
       "</style>\n",
       "<table border=\"1\" class=\"dataframe\">\n",
       "  <thead>\n",
       "    <tr style=\"text-align: right;\">\n",
       "      <th></th>\n",
       "      <th>Answer</th>\n",
       "      <th>Question</th>\n",
       "    </tr>\n",
       "  </thead>\n",
       "  <tbody>\n",
       "    <tr>\n",
       "      <th>0</th>\n",
       "      <td>Artificial Intelligence refers to the developm...</td>\n",
       "      <td>What is Artificial Intelligence?</td>\n",
       "    </tr>\n",
       "    <tr>\n",
       "      <th>1</th>\n",
       "      <td>The two main categories of Artificial Intellig...</td>\n",
       "      <td>What are the two main categories of Artificial...</td>\n",
       "    </tr>\n",
       "    <tr>\n",
       "      <th>2</th>\n",
       "      <td>Machine Learning is a subset of Artificial Int...</td>\n",
       "      <td>What is Machine Learning?</td>\n",
       "    </tr>\n",
       "    <tr>\n",
       "      <th>3</th>\n",
       "      <td>Deep Learning is a subset of Machine Learning ...</td>\n",
       "      <td>What is Deep Learning?</td>\n",
       "    </tr>\n",
       "    <tr>\n",
       "      <th>4</th>\n",
       "      <td>Natural Language Processing is a subset of Art...</td>\n",
       "      <td>What is Natural Language Processing?</td>\n",
       "    </tr>\n",
       "    <tr>\n",
       "      <th>...</th>\n",
       "      <td>...</td>\n",
       "      <td>...</td>\n",
       "    </tr>\n",
       "    <tr>\n",
       "      <th>37630</th>\n",
       "      <td>Yes, Viv Richards had a stellar batting averag...</td>\n",
       "      <td>Did Viv Richards have a stellar batting averag...</td>\n",
       "    </tr>\n",
       "    <tr>\n",
       "      <th>37631</th>\n",
       "      <td>Yes, Michel Platini has won the UEFA European ...</td>\n",
       "      <td>Has Michel Platini won the UEFA European Champ...</td>\n",
       "    </tr>\n",
       "    <tr>\n",
       "      <th>37632</th>\n",
       "      <td>Yes, Brian Lara held the record for the highes...</td>\n",
       "      <td>Did Brian Lara hold the record for the highest...</td>\n",
       "    </tr>\n",
       "    <tr>\n",
       "      <th>37633</th>\n",
       "      <td>Yes, Johan Cruyff was known for his influentia...</td>\n",
       "      <td>Was Johan Cruyff known for his influential pla...</td>\n",
       "    </tr>\n",
       "    <tr>\n",
       "      <th>37634</th>\n",
       "      <td>Yes, Glenn McGrath held the record for the mos...</td>\n",
       "      <td>Did Glenn McGrath hold the record for the most...</td>\n",
       "    </tr>\n",
       "  </tbody>\n",
       "</table>\n",
       "<p>37635 rows × 2 columns</p>\n",
       "</div>"
      ],
      "text/plain": [
       "                                                  Answer  \\\n",
       "0      Artificial Intelligence refers to the developm...   \n",
       "1      The two main categories of Artificial Intellig...   \n",
       "2      Machine Learning is a subset of Artificial Int...   \n",
       "3      Deep Learning is a subset of Machine Learning ...   \n",
       "4      Natural Language Processing is a subset of Art...   \n",
       "...                                                  ...   \n",
       "37630  Yes, Viv Richards had a stellar batting averag...   \n",
       "37631  Yes, Michel Platini has won the UEFA European ...   \n",
       "37632  Yes, Brian Lara held the record for the highes...   \n",
       "37633  Yes, Johan Cruyff was known for his influentia...   \n",
       "37634  Yes, Glenn McGrath held the record for the mos...   \n",
       "\n",
       "                                                Question  \n",
       "0                       What is Artificial Intelligence?  \n",
       "1      What are the two main categories of Artificial...  \n",
       "2                              What is Machine Learning?  \n",
       "3                                 What is Deep Learning?  \n",
       "4                   What is Natural Language Processing?  \n",
       "...                                                  ...  \n",
       "37630  Did Viv Richards have a stellar batting averag...  \n",
       "37631  Has Michel Platini won the UEFA European Champ...  \n",
       "37632  Did Brian Lara hold the record for the highest...  \n",
       "37633  Was Johan Cruyff known for his influential pla...  \n",
       "37634  Did Glenn McGrath hold the record for the most...  \n",
       "\n",
       "[37635 rows x 2 columns]"
      ]
     },
     "execution_count": 3,
     "metadata": {},
     "output_type": "execute_result"
    }
   ],
   "source": [
    "df = pd.DataFrame(data)\n",
    "df"
   ]
  },
  {
   "cell_type": "code",
   "execution_count": 4,
   "metadata": {},
   "outputs": [
    {
     "data": {
      "text/html": [
       "<div>\n",
       "<style scoped>\n",
       "    .dataframe tbody tr th:only-of-type {\n",
       "        vertical-align: middle;\n",
       "    }\n",
       "\n",
       "    .dataframe tbody tr th {\n",
       "        vertical-align: top;\n",
       "    }\n",
       "\n",
       "    .dataframe thead th {\n",
       "        text-align: right;\n",
       "    }\n",
       "</style>\n",
       "<table border=\"1\" class=\"dataframe\">\n",
       "  <thead>\n",
       "    <tr style=\"text-align: right;\">\n",
       "      <th></th>\n",
       "      <th>Answer</th>\n",
       "      <th>Question</th>\n",
       "    </tr>\n",
       "  </thead>\n",
       "  <tbody>\n",
       "    <tr>\n",
       "      <th>0</th>\n",
       "      <td>passage: Artificial Intelligence refers to the...</td>\n",
       "      <td>query: What is Artificial Intelligence?</td>\n",
       "    </tr>\n",
       "    <tr>\n",
       "      <th>1</th>\n",
       "      <td>passage: The two main categories of Artificial...</td>\n",
       "      <td>query: What are the two main categories of Art...</td>\n",
       "    </tr>\n",
       "    <tr>\n",
       "      <th>2</th>\n",
       "      <td>passage: Machine Learning is a subset of Artif...</td>\n",
       "      <td>query: What is Machine Learning?</td>\n",
       "    </tr>\n",
       "    <tr>\n",
       "      <th>3</th>\n",
       "      <td>passage: Deep Learning is a subset of Machine ...</td>\n",
       "      <td>query: What is Deep Learning?</td>\n",
       "    </tr>\n",
       "    <tr>\n",
       "      <th>4</th>\n",
       "      <td>passage: Natural Language Processing is a subs...</td>\n",
       "      <td>query: What is Natural Language Processing?</td>\n",
       "    </tr>\n",
       "    <tr>\n",
       "      <th>...</th>\n",
       "      <td>...</td>\n",
       "      <td>...</td>\n",
       "    </tr>\n",
       "    <tr>\n",
       "      <th>37630</th>\n",
       "      <td>passage: Yes, Viv Richards had a stellar batti...</td>\n",
       "      <td>query: Did Viv Richards have a stellar batting...</td>\n",
       "    </tr>\n",
       "    <tr>\n",
       "      <th>37631</th>\n",
       "      <td>passage: Yes, Michel Platini has won the UEFA ...</td>\n",
       "      <td>query: Has Michel Platini won the UEFA Europea...</td>\n",
       "    </tr>\n",
       "    <tr>\n",
       "      <th>37632</th>\n",
       "      <td>passage: Yes, Brian Lara held the record for t...</td>\n",
       "      <td>query: Did Brian Lara hold the record for the ...</td>\n",
       "    </tr>\n",
       "    <tr>\n",
       "      <th>37633</th>\n",
       "      <td>passage: Yes, Johan Cruyff was known for his i...</td>\n",
       "      <td>query: Was Johan Cruyff known for his influent...</td>\n",
       "    </tr>\n",
       "    <tr>\n",
       "      <th>37634</th>\n",
       "      <td>passage: Yes, Glenn McGrath held the record fo...</td>\n",
       "      <td>query: Did Glenn McGrath hold the record for t...</td>\n",
       "    </tr>\n",
       "  </tbody>\n",
       "</table>\n",
       "<p>37635 rows × 2 columns</p>\n",
       "</div>"
      ],
      "text/plain": [
       "                                                  Answer  \\\n",
       "0      passage: Artificial Intelligence refers to the...   \n",
       "1      passage: The two main categories of Artificial...   \n",
       "2      passage: Machine Learning is a subset of Artif...   \n",
       "3      passage: Deep Learning is a subset of Machine ...   \n",
       "4      passage: Natural Language Processing is a subs...   \n",
       "...                                                  ...   \n",
       "37630  passage: Yes, Viv Richards had a stellar batti...   \n",
       "37631  passage: Yes, Michel Platini has won the UEFA ...   \n",
       "37632  passage: Yes, Brian Lara held the record for t...   \n",
       "37633  passage: Yes, Johan Cruyff was known for his i...   \n",
       "37634  passage: Yes, Glenn McGrath held the record fo...   \n",
       "\n",
       "                                                Question  \n",
       "0                query: What is Artificial Intelligence?  \n",
       "1      query: What are the two main categories of Art...  \n",
       "2                       query: What is Machine Learning?  \n",
       "3                          query: What is Deep Learning?  \n",
       "4            query: What is Natural Language Processing?  \n",
       "...                                                  ...  \n",
       "37630  query: Did Viv Richards have a stellar batting...  \n",
       "37631  query: Has Michel Platini won the UEFA Europea...  \n",
       "37632  query: Did Brian Lara hold the record for the ...  \n",
       "37633  query: Was Johan Cruyff known for his influent...  \n",
       "37634  query: Did Glenn McGrath hold the record for t...  \n",
       "\n",
       "[37635 rows x 2 columns]"
      ]
     },
     "execution_count": 4,
     "metadata": {},
     "output_type": "execute_result"
    }
   ],
   "source": [
    "df['Question'] = df['Question'].apply(lambda x: 'query: '+str(x))\n",
    "df['Answer'] = df['Answer'].apply(lambda x: 'passage: '+str(x))\n",
    "df"
   ]
  },
  {
   "cell_type": "code",
   "execution_count": 5,
   "metadata": {},
   "outputs": [],
   "source": [
    "def process_chunk(chunk, tokenizer, model, batch_size=32):\n",
    "    embeddings_list = []\n",
    "    for i in range(0, len(chunk), batch_size):\n",
    "        batch = chunk[i:i+batch_size]\n",
    "        input_texts = [f\"query: {text}\" if idx % 2 == 0 else f\"passage: {text}\" for idx, text in enumerate(batch)]\n",
    "        \n",
    "        batch_dict = tokenizer(input_texts, max_length=512, padding=True, truncation=True, return_tensors='pt')\n",
    "        \n",
    "        with torch.no_grad():\n",
    "            outputs = model(**batch_dict)\n",
    "        \n",
    "        chunk_embeddings = average_pool(outputs.last_hidden_state, batch_dict['attention_mask'])\n",
    "        chunk_embeddings = F.normalize(chunk_embeddings, p=2, dim=1)\n",
    "        embeddings_list.append(chunk_embeddings)\n",
    "    \n",
    "    return torch.cat(embeddings_list)\n",
    "\n"
   ]
  },
  {
   "cell_type": "code",
   "execution_count": 6,
   "metadata": {},
   "outputs": [],
   "source": [
    "import torch\n",
    "import torch.nn.functional as F\n",
    "from torch import Tensor\n",
    "from transformers import AutoTokenizer, AutoModel\n",
    "\n",
    "def average_pool(last_hidden_states: Tensor, attention_mask: Tensor) -> Tensor:\n",
    "    last_hidden = last_hidden_states.masked_fill(~attention_mask[..., None].bool(), 0.0)\n",
    "    return last_hidden.sum(dim=1) / attention_mask.sum(dim=1)[..., None]\n"
   ]
  },
  {
   "cell_type": "code",
   "execution_count": 7,
   "metadata": {},
   "outputs": [
    {
     "name": "stderr",
     "output_type": "stream",
     "text": [
      "/home/tobias/anaconda3/envs/taproject/lib/python3.12/site-packages/numpy/core/fromnumeric.py:59: FutureWarning: 'DataFrame.swapaxes' is deprecated and will be removed in a future version. Please use 'DataFrame.transpose' instead.\n",
      "  return bound(*args, **kwds)\n"
     ]
    }
   ],
   "source": [
    "chunk_size = 3000\n",
    "chunks = np.array_split(df,chunk_size)"
   ]
  },
  {
   "cell_type": "code",
   "execution_count": 8,
   "metadata": {},
   "outputs": [
    {
     "name": "stderr",
     "output_type": "stream",
     "text": [
      "100%|██████████| 3000/3000 [16:25<00:00,  3.04it/s]\n"
     ]
    }
   ],
   "source": [
    "tokenizer = AutoTokenizer.from_pretrained('intfloat/e5-small-v2')\n",
    "model = AutoModel.from_pretrained('intfloat/e5-small-v2')\n",
    "\n",
    "all_embeddings = []\n",
    "for chunk in tqdm(chunks):\n",
    "    input_text = []\n",
    "    input_text.extend(chunk['Question'])\n",
    "    input_text.extend(chunk['Answer'])\n",
    "    chunk_embeddings = process_chunk(input_text, tokenizer, model)\n",
    "    all_embeddings.append(chunk_embeddings)\n",
    "\n",
    "final_embeddings = torch.cat(all_embeddings)\n"
   ]
  },
  {
   "cell_type": "code",
   "execution_count": 10,
   "metadata": {},
   "outputs": [],
   "source": [
    "torch.save(final_embeddings, 'final_embeddings.pt')"
   ]
  },
  {
   "cell_type": "code",
   "execution_count": 29,
   "metadata": {},
   "outputs": [
    {
     "name": "stdout",
     "output_type": "stream",
     "text": [
      "[[87.85655212402344, 92.95586395263672, 85.57814025878906, 87.42521667480469, 83.62891387939453, 93.98435974121094, 83.9970932006836, 93.98435974121094, 81.0186767578125, 85.54678344726562, 89.12947082519531, 89.11884307861328, 90.93838500976562, 84.83082580566406, 88.03341674804688, 85.26959991455078, 85.87922668457031, 86.71925354003906, 88.07791137695312, 83.60580444335938, 88.22415924072266, 82.2174301147461, 82.4678955078125, 88.29364013671875, 86.01194763183594, 86.88536071777344, 80.99850463867188, 91.44918823242188, 79.96177673339844, 94.26539611816406, 86.17044830322266, 89.2818832397461, 87.96067810058594, 83.87419128417969, 86.17100524902344, 80.29085540771484, 86.59498596191406, 84.33937072753906, 84.50930786132812, 84.04639434814453, 88.09358215332031, 77.0896987915039, 88.08671569824219, 84.06803894042969, 83.71202087402344, 84.34056854248047, 82.3663330078125, 85.9171142578125, 79.44811248779297, 85.38343048095703, 79.93467712402344, 89.83026885986328, 84.8730697631836, 85.79263305664062, 84.56449890136719, 86.48413848876953, 78.68058013916016, 77.05474090576172, 76.84491729736328, 78.59751892089844, 77.5078125, 81.843994140625, 76.89602661132812, 79.06842041015625, 85.79168701171875, 82.95465850830078, 83.05039978027344, 84.84095001220703, 79.50527954101562, 77.108642578125, 72.45361328125, 74.18275451660156, 68.24584197998047, 74.86622619628906, 71.88084411621094, 72.11566162109375, 77.13190460205078, 78.12509155273438, 77.92060089111328, 80.05506134033203, 75.55001068115234, 77.47868347167969, 78.23157501220703, 79.37267303466797, 78.58903503417969, 78.60765075683594, 77.75959777832031, 78.12509155273438, 77.92060089111328, 80.05506134033203, 74.93807983398438, 76.15697479248047, 70.62288665771484, 70.89700317382812, 69.60518646240234, 73.81153106689453, 74.00070190429688, 76.718994140625, 71.8001937866211]]\n"
     ]
    }
   ],
   "source": [
    "limit = 100\n",
    "# Berechnen Sie die Scores für die ersten beiden Einträge gegen den Rest\n",
    "scores = (final_embeddings[:1] @ final_embeddings[1:limit].T) * 100\n",
    "print(scores.tolist())\n"
   ]
  },
  {
   "cell_type": "code",
   "execution_count": 30,
   "metadata": {},
   "outputs": [
    {
     "name": "stdout",
     "output_type": "stream",
     "text": [
      "tensor(94.2654)\n"
     ]
    }
   ],
   "source": [
    "best_answer = scores.max()\n",
    "best\n"
   ]
  },
  {
   "cell_type": "code",
   "execution_count": 31,
   "metadata": {},
   "outputs": [
    {
     "data": {
      "text/plain": [
       "('query: What is Artificial Intelligence?',\n",
       " 'passage: Natural Language Processing is a subset of Artificial Intelligence that focuses on enabling computers to understand, interpret, and generate human language.\\\\n')"
      ]
     },
     "execution_count": 31,
     "metadata": {},
     "output_type": "execute_result"
    }
   ],
   "source": [
    "df.iloc[0,1], df.iloc[4,0]"
   ]
  },
  {
   "cell_type": "code",
   "execution_count": 32,
   "metadata": {},
   "outputs": [
    {
     "data": {
      "text/plain": [
       "75270"
      ]
     },
     "execution_count": 32,
     "metadata": {},
     "output_type": "execute_result"
    }
   ],
   "source": [
    "len(final_embeddings)"
   ]
  },
  {
   "cell_type": "code",
   "execution_count": null,
   "metadata": {},
   "outputs": [],
   "source": [
    "final_embeddings"
   ]
  }
 ],
 "metadata": {
  "kernelspec": {
   "display_name": "taproject",
   "language": "python",
   "name": "python3"
  },
  "language_info": {
   "codemirror_mode": {
    "name": "ipython",
    "version": 3
   },
   "file_extension": ".py",
   "mimetype": "text/x-python",
   "name": "python",
   "nbconvert_exporter": "python",
   "pygments_lexer": "ipython3",
   "version": "3.12.8"
  }
 },
 "nbformat": 4,
 "nbformat_minor": 2
}
